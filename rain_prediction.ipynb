{
 "cells": [
  {
   "cell_type": "code",
   "execution_count": 1,
   "metadata": {
    "_cell_guid": "b1076dfc-b9ad-4769-8c92-a6c4dae69d19",
    "_uuid": "8f2839f25d086af736a60e9eeb907d3b93b6e0e5",
    "execution": {
     "iopub.execute_input": "2020-12-15T00:11:42.148823Z",
     "iopub.status.busy": "2020-12-15T00:11:42.147957Z",
     "iopub.status.idle": "2020-12-15T00:11:43.549505Z",
     "shell.execute_reply": "2020-12-15T00:11:43.548682Z"
    },
    "papermill": {
     "duration": 1.445896,
     "end_time": "2020-12-15T00:11:43.549674",
     "exception": false,
     "start_time": "2020-12-15T00:11:42.103778",
     "status": "completed"
    },
    "tags": []
   },
   "outputs": [
    {
     "name": "stdout",
     "output_type": "stream",
     "text": [
      "/kaggle/input/rainpre/Rain Prediction Train.csv\n"
     ]
    }
   ],
   "source": [
    "import numpy as np \n",
    "import pandas as pd \n",
    "import seaborn as sns\n",
    "import matplotlib.pyplot as plt\n",
    "\n",
    "\n",
    "import os\n",
    "for dirname, _, filenames in os.walk('/kaggle/input'):\n",
    "    for filename in filenames:\n",
    "        print(os.path.join(dirname, filename))\n"
   ]
  },
  {
   "cell_type": "code",
   "execution_count": 2,
   "metadata": {
    "_cell_guid": "79c7e3d0-c299-4dcb-8224-4455121ee9b0",
    "_uuid": "d629ff2d2480ee46fbb7e2d37f6b5fab8052498a",
    "execution": {
     "iopub.execute_input": "2020-12-15T00:11:43.628915Z",
     "iopub.status.busy": "2020-12-15T00:11:43.627851Z",
     "iopub.status.idle": "2020-12-15T00:11:43.845236Z",
     "shell.execute_reply": "2020-12-15T00:11:43.843777Z"
    },
    "papermill": {
     "duration": 0.25991,
     "end_time": "2020-12-15T00:11:43.845421",
     "exception": false,
     "start_time": "2020-12-15T00:11:43.585511",
     "status": "completed"
    },
    "tags": []
   },
   "outputs": [],
   "source": [
    "df = pd.read_csv(\"../input/rainpre/Rain Prediction Train.csv\")"
   ]
  },
  {
   "cell_type": "markdown",
   "metadata": {
    "papermill": {
     "duration": 0.033047,
     "end_time": "2020-12-15T00:11:43.917141",
     "exception": false,
     "start_time": "2020-12-15T00:11:43.884094",
     "status": "completed"
    },
    "tags": []
   },
   "source": [
    "**Veri Analizi**"
   ]
  },
  {
   "cell_type": "code",
   "execution_count": 3,
   "metadata": {
    "execution": {
     "iopub.execute_input": "2020-12-15T00:11:44.001206Z",
     "iopub.status.busy": "2020-12-15T00:11:44.000472Z",
     "iopub.status.idle": "2020-12-15T00:11:44.029705Z",
     "shell.execute_reply": "2020-12-15T00:11:44.030433Z"
    },
    "papermill": {
     "duration": 0.077845,
     "end_time": "2020-12-15T00:11:44.030628",
     "exception": false,
     "start_time": "2020-12-15T00:11:43.952783",
     "status": "completed"
    },
    "tags": []
   },
   "outputs": [
    {
     "data": {
      "text/html": [
       "<div>\n",
       "<style scoped>\n",
       "    .dataframe tbody tr th:only-of-type {\n",
       "        vertical-align: middle;\n",
       "    }\n",
       "\n",
       "    .dataframe tbody tr th {\n",
       "        vertical-align: top;\n",
       "    }\n",
       "\n",
       "    .dataframe thead th {\n",
       "        text-align: right;\n",
       "    }\n",
       "</style>\n",
       "<table border=\"1\" class=\"dataframe\">\n",
       "  <thead>\n",
       "    <tr style=\"text-align: right;\">\n",
       "      <th></th>\n",
       "      <th>Date</th>\n",
       "      <th>Location</th>\n",
       "      <th>MinTemp</th>\n",
       "      <th>MaxTemp</th>\n",
       "      <th>Rainfall</th>\n",
       "      <th>Sunshine</th>\n",
       "      <th>Humidity9am</th>\n",
       "      <th>Humidity3pm</th>\n",
       "      <th>RainToday</th>\n",
       "    </tr>\n",
       "  </thead>\n",
       "  <tbody>\n",
       "    <tr>\n",
       "      <th>0</th>\n",
       "      <td>07/02/14</td>\n",
       "      <td>CoffsHarbour</td>\n",
       "      <td>17.7</td>\n",
       "      <td>25.9</td>\n",
       "      <td>2.2</td>\n",
       "      <td>NaN</td>\n",
       "      <td>76.0</td>\n",
       "      <td>66.0</td>\n",
       "      <td>Yes</td>\n",
       "    </tr>\n",
       "    <tr>\n",
       "      <th>1</th>\n",
       "      <td>23/04/09</td>\n",
       "      <td>Portland</td>\n",
       "      <td>6.7</td>\n",
       "      <td>22.0</td>\n",
       "      <td>0.0</td>\n",
       "      <td>0.4</td>\n",
       "      <td>65.0</td>\n",
       "      <td>37.0</td>\n",
       "      <td>No</td>\n",
       "    </tr>\n",
       "    <tr>\n",
       "      <th>2</th>\n",
       "      <td>08/11/15</td>\n",
       "      <td>Watsonia</td>\n",
       "      <td>6.2</td>\n",
       "      <td>25.7</td>\n",
       "      <td>0.0</td>\n",
       "      <td>10.9</td>\n",
       "      <td>71.0</td>\n",
       "      <td>28.0</td>\n",
       "      <td>No</td>\n",
       "    </tr>\n",
       "    <tr>\n",
       "      <th>3</th>\n",
       "      <td>21/11/12</td>\n",
       "      <td>Wollongong</td>\n",
       "      <td>13.8</td>\n",
       "      <td>22.8</td>\n",
       "      <td>0.0</td>\n",
       "      <td>NaN</td>\n",
       "      <td>65.0</td>\n",
       "      <td>76.0</td>\n",
       "      <td>No</td>\n",
       "    </tr>\n",
       "    <tr>\n",
       "      <th>4</th>\n",
       "      <td>30/07/13</td>\n",
       "      <td>Townsville</td>\n",
       "      <td>13.4</td>\n",
       "      <td>27.2</td>\n",
       "      <td>0.0</td>\n",
       "      <td>10.2</td>\n",
       "      <td>61.0</td>\n",
       "      <td>46.0</td>\n",
       "      <td>No</td>\n",
       "    </tr>\n",
       "  </tbody>\n",
       "</table>\n",
       "</div>"
      ],
      "text/plain": [
       "       Date      Location  MinTemp  MaxTemp  Rainfall  Sunshine  Humidity9am  \\\n",
       "0  07/02/14  CoffsHarbour     17.7     25.9       2.2       NaN         76.0   \n",
       "1  23/04/09      Portland      6.7     22.0       0.0       0.4         65.0   \n",
       "2  08/11/15      Watsonia      6.2     25.7       0.0      10.9         71.0   \n",
       "3  21/11/12    Wollongong     13.8     22.8       0.0       NaN         65.0   \n",
       "4  30/07/13    Townsville     13.4     27.2       0.0      10.2         61.0   \n",
       "\n",
       "   Humidity3pm RainToday  \n",
       "0         66.0       Yes  \n",
       "1         37.0        No  \n",
       "2         28.0        No  \n",
       "3         76.0        No  \n",
       "4         46.0        No  "
      ]
     },
     "execution_count": 3,
     "metadata": {},
     "output_type": "execute_result"
    }
   ],
   "source": [
    "df.head()"
   ]
  },
  {
   "cell_type": "code",
   "execution_count": 4,
   "metadata": {
    "execution": {
     "iopub.execute_input": "2020-12-15T00:11:44.108081Z",
     "iopub.status.busy": "2020-12-15T00:11:44.107344Z",
     "iopub.status.idle": "2020-12-15T00:11:44.112748Z",
     "shell.execute_reply": "2020-12-15T00:11:44.113354Z"
    },
    "papermill": {
     "duration": 0.046089,
     "end_time": "2020-12-15T00:11:44.113526",
     "exception": false,
     "start_time": "2020-12-15T00:11:44.067437",
     "status": "completed"
    },
    "tags": []
   },
   "outputs": [
    {
     "data": {
      "text/plain": [
       "(100000, 9)"
      ]
     },
     "execution_count": 4,
     "metadata": {},
     "output_type": "execute_result"
    }
   ],
   "source": [
    "df.shape"
   ]
  },
  {
   "cell_type": "code",
   "execution_count": 5,
   "metadata": {
    "execution": {
     "iopub.execute_input": "2020-12-15T00:11:44.192901Z",
     "iopub.status.busy": "2020-12-15T00:11:44.191929Z",
     "iopub.status.idle": "2020-12-15T00:11:44.197137Z",
     "shell.execute_reply": "2020-12-15T00:11:44.196596Z"
    },
    "papermill": {
     "duration": 0.048272,
     "end_time": "2020-12-15T00:11:44.197281",
     "exception": false,
     "start_time": "2020-12-15T00:11:44.149009",
     "status": "completed"
    },
    "tags": []
   },
   "outputs": [
    {
     "data": {
      "text/plain": [
       "Date            object\n",
       "Location        object\n",
       "MinTemp        float64\n",
       "MaxTemp        float64\n",
       "Rainfall       float64\n",
       "Sunshine       float64\n",
       "Humidity9am    float64\n",
       "Humidity3pm    float64\n",
       "RainToday       object\n",
       "dtype: object"
      ]
     },
     "execution_count": 5,
     "metadata": {},
     "output_type": "execute_result"
    }
   ],
   "source": [
    "df.dtypes"
   ]
  },
  {
   "cell_type": "code",
   "execution_count": 6,
   "metadata": {
    "execution": {
     "iopub.execute_input": "2020-12-15T00:11:44.282543Z",
     "iopub.status.busy": "2020-12-15T00:11:44.281565Z",
     "iopub.status.idle": "2020-12-15T00:11:44.288630Z",
     "shell.execute_reply": "2020-12-15T00:11:44.289236Z"
    },
    "papermill": {
     "duration": 0.055486,
     "end_time": "2020-12-15T00:11:44.289405",
     "exception": false,
     "start_time": "2020-12-15T00:11:44.233919",
     "status": "completed"
    },
    "tags": []
   },
   "outputs": [],
   "source": [
    "# Sınıflandırma için kullanılmayacak niteliklerin veri setinden çıkarılması\n",
    "df = df.drop([\"Date\"], axis=1)"
   ]
  },
  {
   "cell_type": "code",
   "execution_count": 7,
   "metadata": {
    "execution": {
     "iopub.execute_input": "2020-12-15T00:11:44.365820Z",
     "iopub.status.busy": "2020-12-15T00:11:44.365033Z",
     "iopub.status.idle": "2020-12-15T00:11:44.438721Z",
     "shell.execute_reply": "2020-12-15T00:11:44.439394Z"
    },
    "papermill": {
     "duration": 0.112678,
     "end_time": "2020-12-15T00:11:44.439583",
     "exception": false,
     "start_time": "2020-12-15T00:11:44.326905",
     "status": "completed"
    },
    "tags": []
   },
   "outputs": [
    {
     "data": {
      "text/html": [
       "<div>\n",
       "<style scoped>\n",
       "    .dataframe tbody tr th:only-of-type {\n",
       "        vertical-align: middle;\n",
       "    }\n",
       "\n",
       "    .dataframe tbody tr th {\n",
       "        vertical-align: top;\n",
       "    }\n",
       "\n",
       "    .dataframe thead th {\n",
       "        text-align: right;\n",
       "    }\n",
       "</style>\n",
       "<table border=\"1\" class=\"dataframe\">\n",
       "  <thead>\n",
       "    <tr style=\"text-align: right;\">\n",
       "      <th></th>\n",
       "      <th>MinTemp</th>\n",
       "      <th>MaxTemp</th>\n",
       "      <th>Rainfall</th>\n",
       "      <th>Sunshine</th>\n",
       "      <th>Humidity9am</th>\n",
       "      <th>Humidity3pm</th>\n",
       "    </tr>\n",
       "  </thead>\n",
       "  <tbody>\n",
       "    <tr>\n",
       "      <th>count</th>\n",
       "      <td>99564.000000</td>\n",
       "      <td>99784.000000</td>\n",
       "      <td>99030.000000</td>\n",
       "      <td>52518.000000</td>\n",
       "      <td>98762.000000</td>\n",
       "      <td>97456.000000</td>\n",
       "    </tr>\n",
       "    <tr>\n",
       "      <th>mean</th>\n",
       "      <td>12.190559</td>\n",
       "      <td>23.228404</td>\n",
       "      <td>2.346882</td>\n",
       "      <td>7.627004</td>\n",
       "      <td>68.845599</td>\n",
       "      <td>51.491155</td>\n",
       "    </tr>\n",
       "    <tr>\n",
       "      <th>std</th>\n",
       "      <td>6.412850</td>\n",
       "      <td>7.117851</td>\n",
       "      <td>8.357515</td>\n",
       "      <td>3.783709</td>\n",
       "      <td>19.064754</td>\n",
       "      <td>20.824180</td>\n",
       "    </tr>\n",
       "    <tr>\n",
       "      <th>min</th>\n",
       "      <td>-8.500000</td>\n",
       "      <td>-4.800000</td>\n",
       "      <td>0.000000</td>\n",
       "      <td>0.000000</td>\n",
       "      <td>1.000000</td>\n",
       "      <td>0.000000</td>\n",
       "    </tr>\n",
       "    <tr>\n",
       "      <th>25%</th>\n",
       "      <td>7.600000</td>\n",
       "      <td>17.900000</td>\n",
       "      <td>0.000000</td>\n",
       "      <td>4.900000</td>\n",
       "      <td>57.000000</td>\n",
       "      <td>37.000000</td>\n",
       "    </tr>\n",
       "    <tr>\n",
       "      <th>50%</th>\n",
       "      <td>12.000000</td>\n",
       "      <td>22.600000</td>\n",
       "      <td>0.000000</td>\n",
       "      <td>8.500000</td>\n",
       "      <td>70.000000</td>\n",
       "      <td>52.000000</td>\n",
       "    </tr>\n",
       "    <tr>\n",
       "      <th>75%</th>\n",
       "      <td>16.900000</td>\n",
       "      <td>28.200000</td>\n",
       "      <td>0.600000</td>\n",
       "      <td>10.600000</td>\n",
       "      <td>83.000000</td>\n",
       "      <td>66.000000</td>\n",
       "    </tr>\n",
       "    <tr>\n",
       "      <th>max</th>\n",
       "      <td>33.900000</td>\n",
       "      <td>47.300000</td>\n",
       "      <td>278.400000</td>\n",
       "      <td>14.500000</td>\n",
       "      <td>100.000000</td>\n",
       "      <td>100.000000</td>\n",
       "    </tr>\n",
       "  </tbody>\n",
       "</table>\n",
       "</div>"
      ],
      "text/plain": [
       "            MinTemp       MaxTemp      Rainfall      Sunshine   Humidity9am  \\\n",
       "count  99564.000000  99784.000000  99030.000000  52518.000000  98762.000000   \n",
       "mean      12.190559     23.228404      2.346882      7.627004     68.845599   \n",
       "std        6.412850      7.117851      8.357515      3.783709     19.064754   \n",
       "min       -8.500000     -4.800000      0.000000      0.000000      1.000000   \n",
       "25%        7.600000     17.900000      0.000000      4.900000     57.000000   \n",
       "50%       12.000000     22.600000      0.000000      8.500000     70.000000   \n",
       "75%       16.900000     28.200000      0.600000     10.600000     83.000000   \n",
       "max       33.900000     47.300000    278.400000     14.500000    100.000000   \n",
       "\n",
       "        Humidity3pm  \n",
       "count  97456.000000  \n",
       "mean      51.491155  \n",
       "std       20.824180  \n",
       "min        0.000000  \n",
       "25%       37.000000  \n",
       "50%       52.000000  \n",
       "75%       66.000000  \n",
       "max      100.000000  "
      ]
     },
     "execution_count": 7,
     "metadata": {},
     "output_type": "execute_result"
    }
   ],
   "source": [
    "df.describe()"
   ]
  },
  {
   "cell_type": "code",
   "execution_count": 8,
   "metadata": {
    "execution": {
     "iopub.execute_input": "2020-12-15T00:11:44.518717Z",
     "iopub.status.busy": "2020-12-15T00:11:44.517937Z",
     "iopub.status.idle": "2020-12-15T00:11:44.775576Z",
     "shell.execute_reply": "2020-12-15T00:11:44.774853Z"
    },
    "papermill": {
     "duration": 0.296273,
     "end_time": "2020-12-15T00:11:44.775717",
     "exception": false,
     "start_time": "2020-12-15T00:11:44.479444",
     "status": "completed"
    },
    "tags": []
   },
   "outputs": [
    {
     "data": {
      "text/plain": [
       "Text(0.5, 1.0, 'Watsonia nem-yağış')"
      ]
     },
     "execution_count": 8,
     "metadata": {},
     "output_type": "execute_result"
    },
    {
     "data": {
      "image/png": "[encoded data removed]",
      "text/plain": [
       "<Figure size 432x288 with 1 Axes>"
      ]
     },
     "metadata": {
      "needs_background": "light"
     },
     "output_type": "display_data"
    }
   ],
   "source": [
    "sns.boxplot(x = 'RainToday', y = 'Humidity9am', data = df[df[\"Location\"] == \"Watsonia\"]).set_title(\"Watsonia nem-yağış\")"
   ]
  },
  {
   "cell_type": "code",
   "execution_count": 9,
   "metadata": {
    "execution": {
     "iopub.execute_input": "2020-12-15T00:11:44.896500Z",
     "iopub.status.busy": "2020-12-15T00:11:44.878791Z",
     "iopub.status.idle": "2020-12-15T00:11:45.281386Z",
     "shell.execute_reply": "2020-12-15T00:11:45.280656Z"
    },
    "papermill": {
     "duration": 0.466894,
     "end_time": "2020-12-15T00:11:45.281534",
     "exception": false,
     "start_time": "2020-12-15T00:11:44.814640",
     "status": "completed"
    },
    "tags": []
   },
   "outputs": [
    {
     "data": {
      "text/plain": [
       "Text(0.5, 1.0, 'Newcastle and Sydney nem-yağış')"
      ]
     },
     "execution_count": 9,
     "metadata": {},
     "output_type": "execute_result"
    },
    {
     "data": {
      "image/png": "[encoded data removed]",
      "text/plain": [
       "<Figure size 432x288 with 1 Axes>"
      ]
     },
     "metadata": {
      "needs_background": "light"
     },
     "output_type": "display_data"
    }
   ],
   "source": [
    "sns.barplot(x = 'Location', y = 'Humidity9am', data = df[np.logical_or(df[\"Location\"] == \"Newcastle\", df[\"Location\"] == \"Sydney\")], hue = 'RainToday').set_title(\"Newcastle and Sydney nem-yağış\")\n"
   ]
  },
  {
   "cell_type": "markdown",
   "metadata": {
    "papermill": {
     "duration": 0.039184,
     "end_time": "2020-12-15T00:11:45.358660",
     "exception": false,
     "start_time": "2020-12-15T00:11:45.319476",
     "status": "completed"
    },
    "tags": []
   },
   "source": [
    "*Data Pre-processing*"
   ]
  },
  {
   "cell_type": "code",
   "execution_count": 10,
   "metadata": {
    "execution": {
     "iopub.execute_input": "2020-12-15T00:11:45.463297Z",
     "iopub.status.busy": "2020-12-15T00:11:45.462470Z",
     "iopub.status.idle": "2020-12-15T00:11:45.475022Z",
     "shell.execute_reply": "2020-12-15T00:11:45.474358Z"
    },
    "papermill": {
     "duration": 0.078336,
     "end_time": "2020-12-15T00:11:45.475157",
     "exception": false,
     "start_time": "2020-12-15T00:11:45.396821",
     "status": "completed"
    },
    "tags": []
   },
   "outputs": [
    {
     "data": {
      "text/plain": [
       "Location           0\n",
       "MinTemp          436\n",
       "MaxTemp          216\n",
       "Rainfall         970\n",
       "Sunshine       47482\n",
       "Humidity9am     1238\n",
       "Humidity3pm     2544\n",
       "RainToday        970\n",
       "dtype: int64"
      ]
     },
     "execution_count": 10,
     "metadata": {},
     "output_type": "execute_result"
    }
   ],
   "source": [
    "df.isnull().sum()  # Eksik veri kontrolü"
   ]
  },
  {
   "cell_type": "code",
   "execution_count": 11,
   "metadata": {
    "execution": {
     "iopub.execute_input": "2020-12-15T00:11:45.582810Z",
     "iopub.status.busy": "2020-12-15T00:11:45.571642Z",
     "iopub.status.idle": "2020-12-15T00:11:45.591145Z",
     "shell.execute_reply": "2020-12-15T00:11:45.590416Z"
    },
    "papermill": {
     "duration": 0.077778,
     "end_time": "2020-12-15T00:11:45.591295",
     "exception": false,
     "start_time": "2020-12-15T00:11:45.513517",
     "status": "completed"
    },
    "tags": []
   },
   "outputs": [
    {
     "data": {
      "text/plain": [
       "No     76973\n",
       "Yes    22057\n",
       "Name: RainToday, dtype: int64"
      ]
     },
     "execution_count": 11,
     "metadata": {},
     "output_type": "execute_result"
    }
   ],
   "source": [
    "df['RainToday'].value_counts() # Bir nitelik için En sık geçen sınıfı bulma"
   ]
  },
  {
   "cell_type": "code",
   "execution_count": 12,
   "metadata": {
    "execution": {
     "iopub.execute_input": "2020-12-15T00:11:45.688422Z",
     "iopub.status.busy": "2020-12-15T00:11:45.687582Z",
     "iopub.status.idle": "2020-12-15T00:11:45.695757Z",
     "shell.execute_reply": "2020-12-15T00:11:45.694641Z"
    },
    "papermill": {
     "duration": 0.065102,
     "end_time": "2020-12-15T00:11:45.696019",
     "exception": false,
     "start_time": "2020-12-15T00:11:45.630917",
     "status": "completed"
    },
    "tags": []
   },
   "outputs": [],
   "source": [
    "df['RainToday'] = df['RainToday'].fillna(\"no\") # Eksik verileri sabit bir değer ile tamamlama"
   ]
  },
  {
   "cell_type": "code",
   "execution_count": 13,
   "metadata": {
    "execution": {
     "iopub.execute_input": "2020-12-15T00:11:45.786275Z",
     "iopub.status.busy": "2020-12-15T00:11:45.785105Z",
     "iopub.status.idle": "2020-12-15T00:11:45.868093Z",
     "shell.execute_reply": "2020-12-15T00:11:45.868707Z"
    },
    "papermill": {
     "duration": 0.130681,
     "end_time": "2020-12-15T00:11:45.868931",
     "exception": false,
     "start_time": "2020-12-15T00:11:45.738250",
     "status": "completed"
    },
    "tags": []
   },
   "outputs": [],
   "source": [
    "from sklearn.preprocessing import LabelEncoder # Kategorik verileri dönüştürme"
   ]
  },
  {
   "cell_type": "code",
   "execution_count": 14,
   "metadata": {
    "execution": {
     "iopub.execute_input": "2020-12-15T00:11:45.995836Z",
     "iopub.status.busy": "2020-12-15T00:11:45.994978Z",
     "iopub.status.idle": "2020-12-15T00:11:46.037610Z",
     "shell.execute_reply": "2020-12-15T00:11:46.036915Z"
    },
    "papermill": {
     "duration": 0.125313,
     "end_time": "2020-12-15T00:11:46.037768",
     "exception": false,
     "start_time": "2020-12-15T00:11:45.912455",
     "status": "completed"
    },
    "tags": []
   },
   "outputs": [],
   "source": [
    "LE = LabelEncoder()\n",
    "df['Location_Cat'] = LE.fit_transform(df['Location'])\n",
    "df['RainToday_Cat'] = LE.fit_transform(df['RainToday'])\n"
   ]
  },
  {
   "cell_type": "code",
   "execution_count": 15,
   "metadata": {
    "execution": {
     "iopub.execute_input": "2020-12-15T00:11:46.129552Z",
     "iopub.status.busy": "2020-12-15T00:11:46.128164Z",
     "iopub.status.idle": "2020-12-15T00:11:46.141977Z",
     "shell.execute_reply": "2020-12-15T00:11:46.141130Z"
    },
    "papermill": {
     "duration": 0.061066,
     "end_time": "2020-12-15T00:11:46.142112",
     "exception": false,
     "start_time": "2020-12-15T00:11:46.081046",
     "status": "completed"
    },
    "tags": []
   },
   "outputs": [],
   "source": [
    "df.drop([\"RainToday\",\"Location\"], axis=1, inplace=True)"
   ]
  },
  {
   "cell_type": "code",
   "execution_count": 16,
   "metadata": {
    "execution": {
     "iopub.execute_input": "2020-12-15T00:11:46.230816Z",
     "iopub.status.busy": "2020-12-15T00:11:46.229921Z",
     "iopub.status.idle": "2020-12-15T00:17:32.691066Z",
     "shell.execute_reply": "2020-12-15T00:17:32.690336Z"
    },
    "papermill": {
     "duration": 346.508399,
     "end_time": "2020-12-15T00:17:32.691237",
     "exception": false,
     "start_time": "2020-12-15T00:11:46.182838",
     "status": "completed"
    },
    "tags": []
   },
   "outputs": [],
   "source": [
    " from sklearn.impute import KNNImputer  # Eksik verileri KNN algoritması ile tamamlama\n",
    " imputer = KNNImputer(missing_values=np.nan,n_neighbors=5)\n",
    " imputer.fit(df)\n",
    " df[:] = imputer.transform(df)"
   ]
  },
  {
   "cell_type": "code",
   "execution_count": 17,
   "metadata": {
    "execution": {
     "iopub.execute_input": "2020-12-15T00:17:32.777160Z",
     "iopub.status.busy": "2020-12-15T00:17:32.776028Z",
     "iopub.status.idle": "2020-12-15T00:17:32.780704Z",
     "shell.execute_reply": "2020-12-15T00:17:32.781258Z"
    },
    "papermill": {
     "duration": 0.048537,
     "end_time": "2020-12-15T00:17:32.781426",
     "exception": false,
     "start_time": "2020-12-15T00:17:32.732889",
     "status": "completed"
    },
    "tags": []
   },
   "outputs": [],
   "source": [
    "from sklearn.preprocessing import KBinsDiscretizer # Sürekli Verileri düzleştirme"
   ]
  },
  {
   "cell_type": "code",
   "execution_count": 18,
   "metadata": {
    "execution": {
     "iopub.execute_input": "2020-12-15T00:17:32.865856Z",
     "iopub.status.busy": "2020-12-15T00:17:32.865047Z",
     "iopub.status.idle": "2020-12-15T00:17:32.907047Z",
     "shell.execute_reply": "2020-12-15T00:17:32.907614Z"
    },
    "papermill": {
     "duration": 0.086977,
     "end_time": "2020-12-15T00:17:32.907786",
     "exception": false,
     "start_time": "2020-12-15T00:17:32.820809",
     "status": "completed"
    },
    "tags": []
   },
   "outputs": [],
   "source": [
    "Xbin = KBinsDiscretizer(n_bins=5, encode='ordinal', strategy='quantile') # humidity değerlerini 5 değerden oluşan kategorik veriye dönüştürme\n",
    "df[\"Humidity9am\"] = Xbin.fit_transform(df[[\"Humidity9am\"]])\n",
    "df[\"Humidity3pm\"] = Xbin.fit_transform(df[[\"Humidity3pm\"]])"
   ]
  },
  {
   "cell_type": "code",
   "execution_count": 19,
   "metadata": {
    "execution": {
     "iopub.execute_input": "2020-12-15T00:17:32.992515Z",
     "iopub.status.busy": "2020-12-15T00:17:32.991795Z",
     "iopub.status.idle": "2020-12-15T00:17:33.014173Z",
     "shell.execute_reply": "2020-12-15T00:17:33.014796Z"
    },
    "papermill": {
     "duration": 0.067267,
     "end_time": "2020-12-15T00:17:33.014971",
     "exception": false,
     "start_time": "2020-12-15T00:17:32.947704",
     "status": "completed"
    },
    "tags": []
   },
   "outputs": [
    {
     "data": {
      "text/html": [
       "<div>\n",
       "<style scoped>\n",
       "    .dataframe tbody tr th:only-of-type {\n",
       "        vertical-align: middle;\n",
       "    }\n",
       "\n",
       "    .dataframe tbody tr th {\n",
       "        vertical-align: top;\n",
       "    }\n",
       "\n",
       "    .dataframe thead th {\n",
       "        text-align: right;\n",
       "    }\n",
       "</style>\n",
       "<table border=\"1\" class=\"dataframe\">\n",
       "  <thead>\n",
       "    <tr style=\"text-align: right;\">\n",
       "      <th></th>\n",
       "      <th>MinTemp</th>\n",
       "      <th>MaxTemp</th>\n",
       "      <th>Rainfall</th>\n",
       "      <th>Sunshine</th>\n",
       "      <th>Humidity9am</th>\n",
       "      <th>Humidity3pm</th>\n",
       "      <th>Location_Cat</th>\n",
       "      <th>RainToday_Cat</th>\n",
       "    </tr>\n",
       "  </thead>\n",
       "  <tbody>\n",
       "    <tr>\n",
       "      <th>0</th>\n",
       "      <td>17.70</td>\n",
       "      <td>25.9</td>\n",
       "      <td>2.2</td>\n",
       "      <td>6.12</td>\n",
       "      <td>3.0</td>\n",
       "      <td>3.0</td>\n",
       "      <td>11.0</td>\n",
       "      <td>1.0</td>\n",
       "    </tr>\n",
       "    <tr>\n",
       "      <th>1</th>\n",
       "      <td>6.70</td>\n",
       "      <td>22.0</td>\n",
       "      <td>0.0</td>\n",
       "      <td>0.40</td>\n",
       "      <td>2.0</td>\n",
       "      <td>1.0</td>\n",
       "      <td>33.0</td>\n",
       "      <td>0.0</td>\n",
       "    </tr>\n",
       "    <tr>\n",
       "      <th>2</th>\n",
       "      <td>6.20</td>\n",
       "      <td>25.7</td>\n",
       "      <td>0.0</td>\n",
       "      <td>10.90</td>\n",
       "      <td>2.0</td>\n",
       "      <td>0.0</td>\n",
       "      <td>44.0</td>\n",
       "      <td>0.0</td>\n",
       "    </tr>\n",
       "    <tr>\n",
       "      <th>3</th>\n",
       "      <td>13.80</td>\n",
       "      <td>22.8</td>\n",
       "      <td>0.0</td>\n",
       "      <td>2.94</td>\n",
       "      <td>2.0</td>\n",
       "      <td>4.0</td>\n",
       "      <td>47.0</td>\n",
       "      <td>0.0</td>\n",
       "    </tr>\n",
       "    <tr>\n",
       "      <th>4</th>\n",
       "      <td>13.40</td>\n",
       "      <td>27.2</td>\n",
       "      <td>0.0</td>\n",
       "      <td>10.20</td>\n",
       "      <td>1.0</td>\n",
       "      <td>1.0</td>\n",
       "      <td>39.0</td>\n",
       "      <td>0.0</td>\n",
       "    </tr>\n",
       "    <tr>\n",
       "      <th>...</th>\n",
       "      <td>...</td>\n",
       "      <td>...</td>\n",
       "      <td>...</td>\n",
       "      <td>...</td>\n",
       "      <td>...</td>\n",
       "      <td>...</td>\n",
       "      <td>...</td>\n",
       "      <td>...</td>\n",
       "    </tr>\n",
       "    <tr>\n",
       "      <th>99995</th>\n",
       "      <td>17.60</td>\n",
       "      <td>34.4</td>\n",
       "      <td>0.0</td>\n",
       "      <td>12.90</td>\n",
       "      <td>0.0</td>\n",
       "      <td>0.0</td>\n",
       "      <td>3.0</td>\n",
       "      <td>0.0</td>\n",
       "    </tr>\n",
       "    <tr>\n",
       "      <th>99996</th>\n",
       "      <td>10.20</td>\n",
       "      <td>15.9</td>\n",
       "      <td>0.0</td>\n",
       "      <td>3.80</td>\n",
       "      <td>1.0</td>\n",
       "      <td>1.0</td>\n",
       "      <td>18.0</td>\n",
       "      <td>0.0</td>\n",
       "    </tr>\n",
       "    <tr>\n",
       "      <th>99997</th>\n",
       "      <td>17.10</td>\n",
       "      <td>26.4</td>\n",
       "      <td>0.0</td>\n",
       "      <td>5.20</td>\n",
       "      <td>0.0</td>\n",
       "      <td>3.0</td>\n",
       "      <td>38.0</td>\n",
       "      <td>0.0</td>\n",
       "    </tr>\n",
       "    <tr>\n",
       "      <th>99998</th>\n",
       "      <td>12.08</td>\n",
       "      <td>17.9</td>\n",
       "      <td>0.8</td>\n",
       "      <td>2.10</td>\n",
       "      <td>3.0</td>\n",
       "      <td>4.0</td>\n",
       "      <td>1.0</td>\n",
       "      <td>0.0</td>\n",
       "    </tr>\n",
       "    <tr>\n",
       "      <th>99999</th>\n",
       "      <td>17.50</td>\n",
       "      <td>21.4</td>\n",
       "      <td>0.0</td>\n",
       "      <td>1.20</td>\n",
       "      <td>0.0</td>\n",
       "      <td>4.0</td>\n",
       "      <td>31.0</td>\n",
       "      <td>0.0</td>\n",
       "    </tr>\n",
       "  </tbody>\n",
       "</table>\n",
       "<p>100000 rows × 8 columns</p>\n",
       "</div>"
      ],
      "text/plain": [
       "       MinTemp  MaxTemp  Rainfall  Sunshine  Humidity9am  Humidity3pm  \\\n",
       "0        17.70     25.9       2.2      6.12          3.0          3.0   \n",
       "1         6.70     22.0       0.0      0.40          2.0          1.0   \n",
       "2         6.20     25.7       0.0     10.90          2.0          0.0   \n",
       "3        13.80     22.8       0.0      2.94          2.0          4.0   \n",
       "4        13.40     27.2       0.0     10.20          1.0          1.0   \n",
       "...        ...      ...       ...       ...          ...          ...   \n",
       "99995    17.60     34.4       0.0     12.90          0.0          0.0   \n",
       "99996    10.20     15.9       0.0      3.80          1.0          1.0   \n",
       "99997    17.10     26.4       0.0      5.20          0.0          3.0   \n",
       "99998    12.08     17.9       0.8      2.10          3.0          4.0   \n",
       "99999    17.50     21.4       0.0      1.20          0.0          4.0   \n",
       "\n",
       "       Location_Cat  RainToday_Cat  \n",
       "0              11.0            1.0  \n",
       "1              33.0            0.0  \n",
       "2              44.0            0.0  \n",
       "3              47.0            0.0  \n",
       "4              39.0            0.0  \n",
       "...             ...            ...  \n",
       "99995           3.0            0.0  \n",
       "99996          18.0            0.0  \n",
       "99997          38.0            0.0  \n",
       "99998           1.0            0.0  \n",
       "99999          31.0            0.0  \n",
       "\n",
       "[100000 rows x 8 columns]"
      ]
     },
     "execution_count": 19,
     "metadata": {},
     "output_type": "execute_result"
    }
   ],
   "source": [
    "df ## Makine Öğrenimi Algoritmasının uygulanacağı veri seti"
   ]
  },
  {
   "cell_type": "markdown",
   "metadata": {
    "papermill": {
     "duration": 0.045196,
     "end_time": "2020-12-15T00:17:33.101716",
     "exception": false,
     "start_time": "2020-12-15T00:17:33.056520",
     "status": "completed"
    },
    "tags": []
   },
   "source": [
    "**Prepare train & test set**"
   ]
  },
  {
   "cell_type": "code",
   "execution_count": 20,
   "metadata": {
    "execution": {
     "iopub.execute_input": "2020-12-15T00:17:33.187402Z",
     "iopub.status.busy": "2020-12-15T00:17:33.186652Z",
     "iopub.status.idle": "2020-12-15T00:17:33.192087Z",
     "shell.execute_reply": "2020-12-15T00:17:33.192724Z"
    },
    "papermill": {
     "duration": 0.050392,
     "end_time": "2020-12-15T00:17:33.192908",
     "exception": false,
     "start_time": "2020-12-15T00:17:33.142516",
     "status": "completed"
    },
    "tags": []
   },
   "outputs": [],
   "source": [
    "X = df.loc[:,:\"Location_Cat\"]  # Sadece niteliklerden oluşan Veriseti\n",
    "y = df.loc[:,\"RainToday_Cat\"] # Sınıf etiketi"
   ]
  },
  {
   "cell_type": "code",
   "execution_count": 21,
   "metadata": {
    "execution": {
     "iopub.execute_input": "2020-12-15T00:17:33.279820Z",
     "iopub.status.busy": "2020-12-15T00:17:33.278818Z",
     "iopub.status.idle": "2020-12-15T00:17:33.300577Z",
     "shell.execute_reply": "2020-12-15T00:17:33.301200Z"
    },
    "papermill": {
     "duration": 0.06753,
     "end_time": "2020-12-15T00:17:33.301401",
     "exception": false,
     "start_time": "2020-12-15T00:17:33.233871",
     "status": "completed"
    },
    "tags": []
   },
   "outputs": [],
   "source": [
    "#Veri seti %70 train, %30 test olarak bölmek\n",
    "from sklearn.model_selection import train_test_split\n",
    "X_train, X_test, y_train, y_test = train_test_split(X, y, test_size = 0.30, random_state = 42)"
   ]
  },
  {
   "cell_type": "markdown",
   "metadata": {
    "papermill": {
     "duration": 0.042634,
     "end_time": "2020-12-15T00:17:33.385135",
     "exception": false,
     "start_time": "2020-12-15T00:17:33.342501",
     "status": "completed"
    },
    "tags": []
   },
   "source": [
    "**NaiveBayes**"
   ]
  },
  {
   "cell_type": "code",
   "execution_count": 22,
   "metadata": {
    "execution": {
     "iopub.execute_input": "2020-12-15T00:17:33.473182Z",
     "iopub.status.busy": "2020-12-15T00:17:33.472461Z",
     "iopub.status.idle": "2020-12-15T00:17:33.507125Z",
     "shell.execute_reply": "2020-12-15T00:17:33.506389Z"
    },
    "papermill": {
     "duration": 0.081375,
     "end_time": "2020-12-15T00:17:33.507274",
     "exception": false,
     "start_time": "2020-12-15T00:17:33.425899",
     "status": "completed"
    },
    "tags": []
   },
   "outputs": [
    {
     "data": {
      "text/plain": [
       "GaussianNB()"
      ]
     },
     "execution_count": 22,
     "metadata": {},
     "output_type": "execute_result"
    }
   ],
   "source": [
    "from sklearn.naive_bayes import GaussianNB \n",
    "nby = GaussianNB()\n",
    "\n",
    "nby.fit(X_train, y_train)"
   ]
  },
  {
   "cell_type": "code",
   "execution_count": 23,
   "metadata": {
    "execution": {
     "iopub.execute_input": "2020-12-15T00:17:33.603876Z",
     "iopub.status.busy": "2020-12-15T00:17:33.603050Z",
     "iopub.status.idle": "2020-12-15T00:17:33.612384Z",
     "shell.execute_reply": "2020-12-15T00:17:33.612959Z"
    },
    "papermill": {
     "duration": 0.063421,
     "end_time": "2020-12-15T00:17:33.613127",
     "exception": false,
     "start_time": "2020-12-15T00:17:33.549706",
     "status": "completed"
    },
    "tags": []
   },
   "outputs": [
    {
     "data": {
      "text/plain": [
       "array([0., 0., 0., ..., 1., 0., 0.])"
      ]
     },
     "execution_count": 23,
     "metadata": {},
     "output_type": "execute_result"
    }
   ],
   "source": [
    "model = nby.predict(X_test)\n",
    "model"
   ]
  },
  {
   "cell_type": "code",
   "execution_count": 24,
   "metadata": {
    "execution": {
     "iopub.execute_input": "2020-12-15T00:17:33.704031Z",
     "iopub.status.busy": "2020-12-15T00:17:33.703359Z",
     "iopub.status.idle": "2020-12-15T00:17:33.709134Z",
     "shell.execute_reply": "2020-12-15T00:17:33.708574Z"
    },
    "papermill": {
     "duration": 0.05202,
     "end_time": "2020-12-15T00:17:33.709286",
     "exception": false,
     "start_time": "2020-12-15T00:17:33.657266",
     "status": "completed"
    },
    "tags": []
   },
   "outputs": [],
   "source": [
    "from sklearn.metrics import accuracy_score"
   ]
  },
  {
   "cell_type": "code",
   "execution_count": 25,
   "metadata": {
    "execution": {
     "iopub.execute_input": "2020-12-15T00:17:33.801922Z",
     "iopub.status.busy": "2020-12-15T00:17:33.801043Z",
     "iopub.status.idle": "2020-12-15T00:17:33.807582Z",
     "shell.execute_reply": "2020-12-15T00:17:33.808185Z"
    },
    "papermill": {
     "duration": 0.056605,
     "end_time": "2020-12-15T00:17:33.808376",
     "exception": false,
     "start_time": "2020-12-15T00:17:33.751771",
     "status": "completed"
    },
    "tags": []
   },
   "outputs": [
    {
     "data": {
      "text/plain": [
       "0.9492666666666667"
      ]
     },
     "execution_count": 25,
     "metadata": {},
     "output_type": "execute_result"
    }
   ],
   "source": [
    "ac = accuracy_score(y_test, model) \n",
    "ac"
   ]
  },
  {
   "cell_type": "markdown",
   "metadata": {
    "papermill": {
     "duration": 0.043951,
     "end_time": "2020-12-15T00:17:33.895636",
     "exception": false,
     "start_time": "2020-12-15T00:17:33.851685",
     "status": "completed"
    },
    "tags": []
   },
   "source": [
    "*NaiveBayes Sınıflandırıcı Modelin kaydedilip tekrar kullanılması*"
   ]
  },
  {
   "cell_type": "code",
   "execution_count": 26,
   "metadata": {
    "execution": {
     "iopub.execute_input": "2020-12-15T00:17:33.985658Z",
     "iopub.status.busy": "2020-12-15T00:17:33.984895Z",
     "iopub.status.idle": "2020-12-15T00:17:33.990790Z",
     "shell.execute_reply": "2020-12-15T00:17:33.991453Z"
    },
    "papermill": {
     "duration": 0.052798,
     "end_time": "2020-12-15T00:17:33.991650",
     "exception": false,
     "start_time": "2020-12-15T00:17:33.938852",
     "status": "completed"
    },
    "tags": []
   },
   "outputs": [],
   "source": [
    "import pickle\n",
    "with open('nbmodel.pkl', 'wb') as f:\n",
    "        pickle.dump(nby, f)"
   ]
  },
  {
   "cell_type": "code",
   "execution_count": 27,
   "metadata": {
    "execution": {
     "iopub.execute_input": "2020-12-15T00:17:34.084864Z",
     "iopub.status.busy": "2020-12-15T00:17:34.084064Z",
     "iopub.status.idle": "2020-12-15T00:17:34.096694Z",
     "shell.execute_reply": "2020-12-15T00:17:34.097343Z"
    },
    "papermill": {
     "duration": 0.060513,
     "end_time": "2020-12-15T00:17:34.097522",
     "exception": false,
     "start_time": "2020-12-15T00:17:34.037009",
     "status": "completed"
    },
    "tags": []
   },
   "outputs": [],
   "source": [
    "nby2 = pickle.load(open('nbmodel.pkl', 'rb'))\n",
    "model2 = nby2.predict(X_test)"
   ]
  },
  {
   "cell_type": "code",
   "execution_count": 28,
   "metadata": {
    "execution": {
     "iopub.execute_input": "2020-12-15T00:17:34.194158Z",
     "iopub.status.busy": "2020-12-15T00:17:34.193410Z",
     "iopub.status.idle": "2020-12-15T00:17:34.201842Z",
     "shell.execute_reply": "2020-12-15T00:17:34.202573Z"
    },
    "papermill": {
     "duration": 0.060772,
     "end_time": "2020-12-15T00:17:34.202756",
     "exception": false,
     "start_time": "2020-12-15T00:17:34.141984",
     "status": "completed"
    },
    "tags": []
   },
   "outputs": [
    {
     "data": {
      "text/plain": [
       "0.9492666666666667"
      ]
     },
     "execution_count": 28,
     "metadata": {},
     "output_type": "execute_result"
    }
   ],
   "source": [
    "# Modelin tahmin doğruluğunun gösterilmesi\n",
    "ac2 = accuracy_score(y_test, model2)\n",
    "ac2"
   ]
  },
  {
   "cell_type": "markdown",
   "metadata": {
    "papermill": {
     "duration": 0.044157,
     "end_time": "2020-12-15T00:17:34.290287",
     "exception": false,
     "start_time": "2020-12-15T00:17:34.246130",
     "status": "completed"
    },
    "tags": []
   },
   "source": [
    "*NaiveBayes Sonuçların Karmaşıklık Matrisi üzerinde gösterilmesi*"
   ]
  },
  {
   "cell_type": "code",
   "execution_count": 29,
   "metadata": {
    "execution": {
     "iopub.execute_input": "2020-12-15T00:17:34.384727Z",
     "iopub.status.busy": "2020-12-15T00:17:34.383856Z",
     "iopub.status.idle": "2020-12-15T00:17:34.628429Z",
     "shell.execute_reply": "2020-12-15T00:17:34.627717Z"
    },
    "papermill": {
     "duration": 0.292449,
     "end_time": "2020-12-15T00:17:34.628561",
     "exception": false,
     "start_time": "2020-12-15T00:17:34.336112",
     "status": "completed"
    },
    "tags": []
   },
   "outputs": [
    {
     "data": {
      "text/plain": [
       "array([[22224,   830],\n",
       "       [    0,  6237]])"
      ]
     },
     "execution_count": 29,
     "metadata": {},
     "output_type": "execute_result"
    }
   ],
   "source": [
    "from sklearn.metrics import confusion_matrix\n",
    "confusion_matrix(y_test, model2, labels=[0,1])"
   ]
  },
  {
   "cell_type": "markdown",
   "metadata": {
    "papermill": {
     "duration": 0.045269,
     "end_time": "2020-12-15T00:17:34.717666",
     "exception": false,
     "start_time": "2020-12-15T00:17:34.672397",
     "status": "completed"
    },
    "tags": []
   },
   "source": [
    "**KNN**"
   ]
  },
  {
   "cell_type": "code",
   "execution_count": 30,
   "metadata": {
    "execution": {
     "iopub.execute_input": "2020-12-15T00:17:34.816965Z",
     "iopub.status.busy": "2020-12-15T00:17:34.816188Z",
     "iopub.status.idle": "2020-12-15T00:17:37.429078Z",
     "shell.execute_reply": "2020-12-15T00:17:37.428395Z"
    },
    "papermill": {
     "duration": 2.667165,
     "end_time": "2020-12-15T00:17:37.429230",
     "exception": false,
     "start_time": "2020-12-15T00:17:34.762065",
     "status": "completed"
    },
    "tags": []
   },
   "outputs": [
    {
     "data": {
      "text/plain": [
       "KNeighborsClassifier(metric='euclidean')"
      ]
     },
     "execution_count": 30,
     "metadata": {},
     "output_type": "execute_result"
    }
   ],
   "source": [
    "from sklearn.neighbors import KNeighborsClassifier # KNN algoritması ---------------------------------------------------\n",
    "kn = KNeighborsClassifier(n_neighbors=5, metric='euclidean')\n",
    "\n",
    "kn.fit(X_train, y_train)"
   ]
  },
  {
   "cell_type": "code",
   "execution_count": 31,
   "metadata": {
    "execution": {
     "iopub.execute_input": "2020-12-15T00:17:37.526877Z",
     "iopub.status.busy": "2020-12-15T00:17:37.526031Z",
     "iopub.status.idle": "2020-12-15T00:17:39.922891Z",
     "shell.execute_reply": "2020-12-15T00:17:39.922044Z"
    },
    "papermill": {
     "duration": 2.44939,
     "end_time": "2020-12-15T00:17:39.923046",
     "exception": false,
     "start_time": "2020-12-15T00:17:37.473656",
     "status": "completed"
    },
    "tags": []
   },
   "outputs": [
    {
     "data": {
      "text/plain": [
       "array([0., 0., 0., ..., 0., 0., 0.])"
      ]
     },
     "execution_count": 31,
     "metadata": {},
     "output_type": "execute_result"
    }
   ],
   "source": [
    "model = kn.predict(X_test)\n",
    "model"
   ]
  },
  {
   "cell_type": "code",
   "execution_count": 32,
   "metadata": {
    "execution": {
     "iopub.execute_input": "2020-12-15T00:17:40.025015Z",
     "iopub.status.busy": "2020-12-15T00:17:40.023703Z",
     "iopub.status.idle": "2020-12-15T00:17:40.033572Z",
     "shell.execute_reply": "2020-12-15T00:17:40.032711Z"
    },
    "papermill": {
     "duration": 0.064076,
     "end_time": "2020-12-15T00:17:40.033731",
     "exception": false,
     "start_time": "2020-12-15T00:17:39.969655",
     "status": "completed"
    },
    "tags": []
   },
   "outputs": [
    {
     "data": {
      "text/plain": [
       "0.9578"
      ]
     },
     "execution_count": 32,
     "metadata": {},
     "output_type": "execute_result"
    }
   ],
   "source": [
    "ac = accuracy_score(y_test, model) \n",
    "ac"
   ]
  },
  {
   "cell_type": "markdown",
   "metadata": {
    "papermill": {
     "duration": 0.046055,
     "end_time": "2020-12-15T00:17:40.126953",
     "exception": false,
     "start_time": "2020-12-15T00:17:40.080898",
     "status": "completed"
    },
    "tags": []
   },
   "source": [
    "*KNN Sınıflandırıcı Modelin kaydedilip tekrar kullanılması*"
   ]
  },
  {
   "cell_type": "code",
   "execution_count": 33,
   "metadata": {
    "execution": {
     "iopub.execute_input": "2020-12-15T00:17:40.226238Z",
     "iopub.status.busy": "2020-12-15T00:17:40.225499Z",
     "iopub.status.idle": "2020-12-15T00:17:40.241265Z",
     "shell.execute_reply": "2020-12-15T00:17:40.240485Z"
    },
    "papermill": {
     "duration": 0.066989,
     "end_time": "2020-12-15T00:17:40.241397",
     "exception": false,
     "start_time": "2020-12-15T00:17:40.174408",
     "status": "completed"
    },
    "tags": []
   },
   "outputs": [],
   "source": [
    "import pickle\n",
    "with open('knmodel.pkl', 'wb') as f:\n",
    "        pickle.dump(kn, f)"
   ]
  },
  {
   "cell_type": "code",
   "execution_count": 34,
   "metadata": {
    "execution": {
     "iopub.execute_input": "2020-12-15T00:17:40.344483Z",
     "iopub.status.busy": "2020-12-15T00:17:40.343736Z",
     "iopub.status.idle": "2020-12-15T00:17:40.352460Z",
     "shell.execute_reply": "2020-12-15T00:17:40.351818Z"
    },
    "papermill": {
     "duration": 0.064298,
     "end_time": "2020-12-15T00:17:40.352643",
     "exception": false,
     "start_time": "2020-12-15T00:17:40.288345",
     "status": "completed"
    },
    "tags": []
   },
   "outputs": [],
   "source": [
    "kn2 = pickle.load(open('nbmodel.pkl', 'rb'))\n",
    "modedl2 = kn2.predict(X_test)"
   ]
  },
  {
   "cell_type": "code",
   "execution_count": 35,
   "metadata": {
    "execution": {
     "iopub.execute_input": "2020-12-15T00:17:40.453651Z",
     "iopub.status.busy": "2020-12-15T00:17:40.452925Z",
     "iopub.status.idle": "2020-12-15T00:17:40.459769Z",
     "shell.execute_reply": "2020-12-15T00:17:40.460280Z"
    },
    "papermill": {
     "duration": 0.060977,
     "end_time": "2020-12-15T00:17:40.460462",
     "exception": false,
     "start_time": "2020-12-15T00:17:40.399485",
     "status": "completed"
    },
    "tags": []
   },
   "outputs": [
    {
     "data": {
      "text/plain": [
       "0.9492666666666667"
      ]
     },
     "execution_count": 35,
     "metadata": {},
     "output_type": "execute_result"
    }
   ],
   "source": [
    "# Modelin tahmin doğruluğunun gösterilmesi\n",
    "ac2 = accuracy_score(y_test, model2)\n",
    "ac2"
   ]
  },
  {
   "cell_type": "markdown",
   "metadata": {
    "papermill": {
     "duration": 0.046911,
     "end_time": "2020-12-15T00:17:40.553825",
     "exception": false,
     "start_time": "2020-12-15T00:17:40.506914",
     "status": "completed"
    },
    "tags": []
   },
   "source": [
    "*KNN Sonuçların Karmaşıklık Matrisi üzerinde gösterilmesi*"
   ]
  },
  {
   "cell_type": "code",
   "execution_count": 36,
   "metadata": {
    "execution": {
     "iopub.execute_input": "2020-12-15T00:17:40.653902Z",
     "iopub.status.busy": "2020-12-15T00:17:40.653178Z",
     "iopub.status.idle": "2020-12-15T00:17:40.892021Z",
     "shell.execute_reply": "2020-12-15T00:17:40.891397Z"
    },
    "papermill": {
     "duration": 0.291577,
     "end_time": "2020-12-15T00:17:40.892147",
     "exception": false,
     "start_time": "2020-12-15T00:17:40.600570",
     "status": "completed"
    },
    "tags": []
   },
   "outputs": [
    {
     "data": {
      "text/plain": [
       "array([[22224,   830],\n",
       "       [    0,  6237]])"
      ]
     },
     "execution_count": 36,
     "metadata": {},
     "output_type": "execute_result"
    }
   ],
   "source": [
    "from sklearn.metrics import confusion_matrix\n",
    "confusion_matrix(y_test, model2, labels=[0,1])"
   ]
  },
  {
   "cell_type": "markdown",
   "metadata": {
    "papermill": {
     "duration": 0.046477,
     "end_time": "2020-12-15T00:17:40.987892",
     "exception": false,
     "start_time": "2020-12-15T00:17:40.941415",
     "status": "completed"
    },
    "tags": []
   },
   "source": [
    "**Decision Tree ALGORITHM**"
   ]
  },
  {
   "cell_type": "code",
   "execution_count": 37,
   "metadata": {
    "execution": {
     "iopub.execute_input": "2020-12-15T00:17:41.093826Z",
     "iopub.status.busy": "2020-12-15T00:17:41.093060Z",
     "iopub.status.idle": "2020-12-15T00:17:41.459824Z",
     "shell.execute_reply": "2020-12-15T00:17:41.459144Z"
    },
    "papermill": {
     "duration": 0.420611,
     "end_time": "2020-12-15T00:17:41.459974",
     "exception": false,
     "start_time": "2020-12-15T00:17:41.039363",
     "status": "completed"
    },
    "tags": []
   },
   "outputs": [
    {
     "data": {
      "text/plain": [
       "DecisionTreeClassifier(random_state=42)"
      ]
     },
     "execution_count": 37,
     "metadata": {},
     "output_type": "execute_result"
    }
   ],
   "source": [
    "from sklearn.tree import DecisionTreeClassifier \n",
    "dt = DecisionTreeClassifier(random_state=42)\n",
    "\n",
    "dt.fit(X_train, y_train)"
   ]
  },
  {
   "cell_type": "code",
   "execution_count": 38,
   "metadata": {
    "execution": {
     "iopub.execute_input": "2020-12-15T00:17:41.574333Z",
     "iopub.status.busy": "2020-12-15T00:17:41.573197Z",
     "iopub.status.idle": "2020-12-15T00:17:41.585831Z",
     "shell.execute_reply": "2020-12-15T00:17:41.585069Z"
    },
    "papermill": {
     "duration": 0.072058,
     "end_time": "2020-12-15T00:17:41.585975",
     "exception": false,
     "start_time": "2020-12-15T00:17:41.513917",
     "status": "completed"
    },
    "tags": []
   },
   "outputs": [
    {
     "data": {
      "text/plain": [
       "array([0., 0., 0., ..., 0., 0., 0.])"
      ]
     },
     "execution_count": 38,
     "metadata": {},
     "output_type": "execute_result"
    }
   ],
   "source": [
    "model = dt.predict(X_test)\n",
    "model"
   ]
  },
  {
   "cell_type": "code",
   "execution_count": 39,
   "metadata": {
    "execution": {
     "iopub.execute_input": "2020-12-15T00:17:41.689412Z",
     "iopub.status.busy": "2020-12-15T00:17:41.688284Z",
     "iopub.status.idle": "2020-12-15T00:17:41.697906Z",
     "shell.execute_reply": "2020-12-15T00:17:41.697129Z"
    },
    "papermill": {
     "duration": 0.063484,
     "end_time": "2020-12-15T00:17:41.698053",
     "exception": false,
     "start_time": "2020-12-15T00:17:41.634569",
     "status": "completed"
    },
    "tags": []
   },
   "outputs": [
    {
     "data": {
      "text/plain": [
       "0.9824333333333334"
      ]
     },
     "execution_count": 39,
     "metadata": {},
     "output_type": "execute_result"
    }
   ],
   "source": [
    "ac = accuracy_score(y_test, model) \n",
    "ac"
   ]
  },
  {
   "cell_type": "markdown",
   "metadata": {
    "papermill": {
     "duration": 0.051124,
     "end_time": "2020-12-15T00:17:41.798898",
     "exception": false,
     "start_time": "2020-12-15T00:17:41.747774",
     "status": "completed"
    },
    "tags": []
   },
   "source": [
    "*Decision Tree Sınıflandırıcı Modelin kaydedilip tekrar kullanılması* "
   ]
  },
  {
   "cell_type": "code",
   "execution_count": 40,
   "metadata": {
    "execution": {
     "iopub.execute_input": "2020-12-15T00:17:41.908045Z",
     "iopub.status.busy": "2020-12-15T00:17:41.907241Z",
     "iopub.status.idle": "2020-12-15T00:17:41.911414Z",
     "shell.execute_reply": "2020-12-15T00:17:41.910670Z"
    },
    "papermill": {
     "duration": 0.060845,
     "end_time": "2020-12-15T00:17:41.911550",
     "exception": false,
     "start_time": "2020-12-15T00:17:41.850705",
     "status": "completed"
    },
    "tags": []
   },
   "outputs": [],
   "source": [
    "import pickle\n",
    "with open('dtmodel.pkl', 'wb') as f:\n",
    "        pickle.dump(dt, f)"
   ]
  },
  {
   "cell_type": "code",
   "execution_count": 41,
   "metadata": {
    "execution": {
     "iopub.execute_input": "2020-12-15T00:17:42.024333Z",
     "iopub.status.busy": "2020-12-15T00:17:42.023568Z",
     "iopub.status.idle": "2020-12-15T00:17:42.032302Z",
     "shell.execute_reply": "2020-12-15T00:17:42.031569Z"
    },
    "papermill": {
     "duration": 0.067852,
     "end_time": "2020-12-15T00:17:42.032439",
     "exception": false,
     "start_time": "2020-12-15T00:17:41.964587",
     "status": "completed"
    },
    "tags": []
   },
   "outputs": [],
   "source": [
    "dt2 = pickle.load(open('dtmodel.pkl', 'rb'))\n",
    "modedl2 = dt2.predict(X_test)"
   ]
  },
  {
   "cell_type": "code",
   "execution_count": 42,
   "metadata": {
    "execution": {
     "iopub.execute_input": "2020-12-15T00:17:42.140753Z",
     "iopub.status.busy": "2020-12-15T00:17:42.139612Z",
     "iopub.status.idle": "2020-12-15T00:17:42.147941Z",
     "shell.execute_reply": "2020-12-15T00:17:42.148579Z"
    },
    "papermill": {
     "duration": 0.065923,
     "end_time": "2020-12-15T00:17:42.148746",
     "exception": false,
     "start_time": "2020-12-15T00:17:42.082823",
     "status": "completed"
    },
    "tags": []
   },
   "outputs": [
    {
     "data": {
      "text/plain": [
       "0.9492666666666667"
      ]
     },
     "execution_count": 42,
     "metadata": {},
     "output_type": "execute_result"
    }
   ],
   "source": [
    "# Modelin tahmin doğruluğunun gösterilmesi\n",
    "ac2 = accuracy_score(y_test, model2)\n",
    "ac2"
   ]
  },
  {
   "cell_type": "markdown",
   "metadata": {
    "papermill": {
     "duration": 0.049763,
     "end_time": "2020-12-15T00:17:42.248820",
     "exception": false,
     "start_time": "2020-12-15T00:17:42.199057",
     "status": "completed"
    },
    "tags": []
   },
   "source": [
    "*Decision Tree Sonuçların Karmaşıklık Matrisi üzerinde gösterilmesi*"
   ]
  },
  {
   "cell_type": "code",
   "execution_count": 43,
   "metadata": {
    "execution": {
     "iopub.execute_input": "2020-12-15T00:17:42.358148Z",
     "iopub.status.busy": "2020-12-15T00:17:42.357454Z",
     "iopub.status.idle": "2020-12-15T00:17:42.593147Z",
     "shell.execute_reply": "2020-12-15T00:17:42.592562Z"
    },
    "papermill": {
     "duration": 0.293632,
     "end_time": "2020-12-15T00:17:42.593309",
     "exception": false,
     "start_time": "2020-12-15T00:17:42.299677",
     "status": "completed"
    },
    "tags": []
   },
   "outputs": [
    {
     "data": {
      "text/plain": [
       "array([[22224,   830],\n",
       "       [    0,  6237]])"
      ]
     },
     "execution_count": 43,
     "metadata": {},
     "output_type": "execute_result"
    }
   ],
   "source": [
    "from sklearn.metrics import confusion_matrix\n",
    "confusion_matrix(y_test, model2, labels=[0,1])"
   ]
  }
 ],
 "metadata": {
  "kernelspec": {
   "display_name": "Python 3",
   "language": "python",
   "name": "python3"
  },
  "language_info": {
   "codemirror_mode": {
    "name": "ipython",
    "version": 3
   },
   "file_extension": ".py",
   "mimetype": "text/x-python",
   "name": "python",
   "nbconvert_exporter": "python",
   "pygments_lexer": "ipython3",
   "version": "3.7.6"
  },
  "papermill": {
   "duration": 366.5871,
   "end_time": "2020-12-15T00:17:42.755474",
   "environment_variables": {},
   "exception": null,
   "input_path": "__notebook__.ipynb",
   "output_path": "__notebook__.ipynb",
   "parameters": {},
   "start_time": "2020-12-15T00:11:36.168374",
   "version": "2.1.0"
  }
 },
 "nbformat": 4,
 "nbformat_minor": 4
}
